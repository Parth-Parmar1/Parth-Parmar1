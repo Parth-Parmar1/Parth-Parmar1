{
  "nbformat": 4,
  "nbformat_minor": 0,
  "metadata": {
    "colab": {
      "name": "Inheritance example.ipynb",
      "provenance": [],
      "authorship_tag": "ABX9TyOuagtOs/MJIX67NdLV9X0i",
      "include_colab_link": true
    },
    "kernelspec": {
      "name": "python3",
      "display_name": "Python 3"
    },
    "language_info": {
      "name": "python"
    }
  },
  "cells": [
    {
      "cell_type": "markdown",
      "metadata": {
        "id": "view-in-github",
        "colab_type": "text"
      },
      "source": [
        "<a href=\"https://colab.research.google.com/github/Parth-Parmar1/Parth-Parmar1/blob/main/Inheritance_example.ipynb\" target=\"_parent\"><img src=\"https://colab.research.google.com/assets/colab-badge.svg\" alt=\"Open In Colab\"/></a>"
      ]
    },
    {
      "cell_type": "code",
      "execution_count": null,
      "metadata": {
        "id": "jgatFlDOT2Wv"
      },
      "outputs": [],
      "source": [
        "class Mail:\n",
        "  def __init__(self,sender_add,receiver_add,subject,message):\n",
        "    self.sender_add=sender_add\n",
        "    self.receiver_add=receiver_add\n",
        "    self.subject=subject\n",
        "    self.message=message\n",
        "  def __repr__(self):\n",
        "    return f'To : {self.receiver_add}\\nFrom: {self.receiver_add}\\nSubject:{self.subject}\\nMessage: {self.message}'    \n",
        "      \n",
        "      "
      ]
    },
    {
      "cell_type": "code",
      "source": [
        "class Post(Mail):\n",
        "  def __init__(self,sender_add,receiver_add,subject,message,mode_of_transit):\n",
        "    super().__init__(sender_add,receiver_add,subject,message)\n",
        "    self.mode_of_transit=mode_of_transit\n",
        "  def calculate_delivery_time(self):\n",
        "    if self.mode_of_transit=='Airways':\n",
        "      return 'Delivery Time will be 5 working days'\n",
        "    elif self.mode_of_transit=='Roadways':\n",
        "      return 'Delivery Time will be 15 working days'\n",
        "    elif self.mode_of_transit=='Waterways':\n",
        "      return 'Delivery Time will be 10-15 working days'\n",
        "    else:\n",
        "      return \"Invalid Mode \"\n",
        "  def __repr__(self):\n",
        "    return f'To : {self.receiver_add}\\nFrom: {self.receiver_add}\\nSubject:{self.subject}\\nMessage: {self.message}\\nTransit Mode: {self.mode_of_transit}\\n {self.calculate_delivery_time()}'    \n",
        "        \n"
      ],
      "metadata": {
        "id": "1egbliU8T6VY"
      },
      "execution_count": null,
      "outputs": []
    }
  ]
}