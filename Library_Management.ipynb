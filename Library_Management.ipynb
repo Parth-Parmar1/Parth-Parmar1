{
  "nbformat": 4,
  "nbformat_minor": 0,
  "metadata": {
    "colab": {
      "name": "Library Management.ipynb",
      "provenance": [],
      "collapsed_sections": [],
      "authorship_tag": "ABX9TyPs2ZJju90gHbhbLrjLLNN/",
      "include_colab_link": true
    },
    "kernelspec": {
      "name": "python3",
      "display_name": "Python 3"
    },
    "language_info": {
      "name": "python"
    }
  },
  "cells": [
    {
      "cell_type": "markdown",
      "metadata": {
        "id": "view-in-github",
        "colab_type": "text"
      },
      "source": [
        "<a href=\"https://colab.research.google.com/github/Parth-Parmar1/Parth-Parmar1/blob/main/Library_Management.ipynb\" target=\"_parent\"><img src=\"https://colab.research.google.com/assets/colab-badge.svg\" alt=\"Open In Colab\"/></a>"
      ]
    },
    {
      "cell_type": "code",
      "execution_count": 1,
      "metadata": {
        "colab": {
          "base_uri": "https://localhost:8080/",
          "height": 0
        },
        "id": "uJuRNBzVRmwl",
        "outputId": "79c33b79-08a2-46fb-ee3c-98380ec7ae11"
      },
      "outputs": [
        {
          "name": "stdout",
          "output_type": "stream",
          "text": [
            "---------- Welcome to Library ----------\n",
            "Please Enter: \n",
            "1 to DISPLAY books\n",
            "2 to LEND a book\n",
            "3 to ADD a book\n",
            "4 to COLLECT a book\n",
            "9 to QUIT the application\n",
            "Your Input is: 1\n",
            "Available Books are: \n",
            "Harry Potter\n",
            "Ikigai\n",
            "Lord of the Rings\n",
            "Rich Dad Poor Dad\n",
            "To Kill a Mockingbird\n",
            "The Hunger Games\n",
            "Please Enter: \n",
            "1 to DISPLAY books\n",
            "2 to LEND a book\n",
            "3 to ADD a book\n",
            "4 to COLLECT a book\n",
            "9 to QUIT the application\n",
            "Your Input is: 2\n",
            "Enter the name of the book: Ikigai\n",
            "Borrower Name: PP\n",
            "Please Enter: \n",
            "1 to DISPLAY books\n",
            "2 to LEND a book\n",
            "3 to ADD a book\n",
            "4 to COLLECT a book\n",
            "9 to QUIT the application\n",
            "Your Input is: 3\n",
            "Enter the name of the book you want to add: PP\n",
            "Book has been successfully added in the Library\n",
            "Please Enter: \n",
            "1 to DISPLAY books\n",
            "2 to LEND a book\n",
            "3 to ADD a book\n",
            "4 to COLLECT a book\n",
            "9 to QUIT the application\n",
            "Your Input is: 4\n",
            "Enter the name of the book you want to take: Ikigai\n",
            "Book is successfully removed from the Library\n",
            "Please Enter: \n",
            "1 to DISPLAY books\n",
            "2 to LEND a book\n",
            "3 to ADD a book\n",
            "4 to COLLECT a book\n",
            "9 to QUIT the application\n",
            "Your Input is: 9\n"
          ]
        }
      ],
      "source": [
        "class LibraryAdmin:\n",
        "   def __init__(self,list_books,borrowers_dict):\n",
        "    self.list_books=list_books\n",
        "    self.borrowers_dict=borrowers_dict\n",
        "\n",
        "class LibraryAdmin:\n",
        "  def __init__(self,list_books,borrowers_dict):\n",
        "    self.list_books=list_books\n",
        "    self.borrowers_dict=borrowers_dict\n",
        "  def display_books(self):\n",
        "    print(\"Available Books are: \")\n",
        "    for i in self.list_books:\n",
        "      print(i)\n",
        "  def lend_book(self,book, borrower):\n",
        "    if book in self.borrowers_dict:\n",
        "      print(\"Sorry, this book is already issued\")     \n",
        "    else:\n",
        "      self.borrowers_dict.update({book:borrower})\n",
        "  def add_book(self,book):\n",
        "    self.list_books.append(book)\n",
        "    print('Book has been successfully added in the Library')\n",
        "  def collect_book(self,book):\n",
        "    if book in self.borrowers_dict:\n",
        "      self.borrowers_dict.pop(book)\n",
        "      print(\"Book is successfully removed from the Library\")\n",
        "    else:\n",
        "      print('Book not exist')  \n",
        "\n",
        "library=LibraryAdmin(['Harry Potter','Ikigai','Lord of the Rings','Rich Dad Poor Dad','To Kill a Mockingbird','The Hunger Games'],{})\n",
        "print(f\"{'-'*10} Welcome to Library {'-'*10}\")\n",
        "while True:\n",
        "  user_choice=int(input('Please Enter: \\n1 to DISPLAY books\\n2 to LEND a book\\n3 to ADD a book\\n4 to COLLECT a book\\n9 to QUIT the application\\nYour Input is: '))\n",
        "  if user_choice==1:\n",
        "    library.display_books()\n",
        "  elif user_choice==2:\n",
        "    book=input(\"Enter the name of the book: \")\n",
        "  \n",
        "    borrower=input('Borrower Name: ')\n",
        "    library.lend_book(book,borrower)\n",
        "  elif user_choice==3:\n",
        "    book=input(\"Enter the name of the book you want to add: \")\n",
        "    library.add_book(book)\n",
        "  elif user_choice==4:\n",
        "    book=input(\"Enter the name of the book you want to take: \")\n",
        "    library.collect_book(book)\n",
        "  elif user_choice==9:\n",
        "    break\n",
        "  else:\n",
        "    print(\"Invalid Input\")\n",
        "    user_choice=int(input('Enter: \\n1 to DISPLAY books\\n2 to LEND a book\\n3 to ADD a book\\n4 to COLLECT a book\\n9 to QUIT the application\\nYour Input is: '))\n"
      ]
    }
  ]
}