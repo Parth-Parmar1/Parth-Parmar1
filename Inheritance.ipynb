{
  "nbformat": 4,
  "nbformat_minor": 0,
  "metadata": {
    "colab": {
      "name": "Inheritance.ipynb",
      "provenance": [],
      "authorship_tag": "ABX9TyNtVDHbvwHA4s09fzxRKTgK",
      "include_colab_link": true
    },
    "kernelspec": {
      "name": "python3",
      "display_name": "Python 3"
    },
    "language_info": {
      "name": "python"
    }
  },
  "cells": [
    {
      "cell_type": "markdown",
      "metadata": {
        "id": "view-in-github",
        "colab_type": "text"
      },
      "source": [
        "<a href=\"https://colab.research.google.com/github/Parth-Parmar1/Parth-Parmar1/blob/main/Inheritance.ipynb\" target=\"_parent\"><img src=\"https://colab.research.google.com/assets/colab-badge.svg\" alt=\"Open In Colab\"/></a>"
      ]
    },
    {
      "cell_type": "code",
      "execution_count": 1,
      "metadata": {
        "colab": {
          "base_uri": "https://localhost:8080/"
        },
        "id": "PSwTM7ehSblk",
        "outputId": "1b4de82c-d81b-4dfd-abe2-75800df1098d"
      },
      "outputs": [
        {
          "output_type": "stream",
          "name": "stdout",
          "text": [
            "Properties of Aluminium are \n",
            "Protons = 13\n",
            "Electrons = 13\n",
            "Neutrons = 14\n",
            "electron configuration is [2, 8, 3]\n",
            "The Atomic Mass of the element: 27\n",
            "Net Charge is Neutral\n",
            "name = Aluminium\n",
            "protons = 10\n",
            "electrons = 13\n",
            "neutrons = 14\n",
            "electron_config = [2, 8]\n",
            "mass,volume = 10800 Kg\n",
            "melting_point = 4 m3\n",
            "boiling_point = 2743 K\n",
            "The Atomic Mass of the element: 24\n",
            "Net Charge is Anion\n"
          ]
        }
      ],
      "source": [
        "class Atom:\n",
        "  def __init__(self,name,electrons,protons,neutrons,electron_config):\n",
        "    self.name=name\n",
        "    self.electrons=electrons\n",
        "    self.protons=protons\n",
        "    self.neutrons=neutrons\n",
        "    self.electron_config=electron_config\n",
        "  def calculate_atomic_mass(self):\n",
        "    return f\"The Atomic Mass of the element: {self.protons+self.neutrons}\"\n",
        "  def calculate_charge(self):\n",
        "    net_charge = self.protons - self.electrons\n",
        "    if net_charge>0:\n",
        "      return f'Net Charge is Cation'\n",
        "    elif net_charge<0:\n",
        "      return f'Net Charge is Anion'\n",
        "    else :\n",
        "      return f'Net Charge is Neutral'\n",
        "\n",
        "aluminium=Atom('Aluminium',13,13,14,[2,8,3])\n",
        "print(f'Properties of {aluminium.name} are \\nProtons = {aluminium.protons}\\nElectrons = {aluminium.electrons}\\nNeutrons = {aluminium.neutrons}\\nelectron configuration is {aluminium.electron_config}')\n",
        "print(aluminium.calculate_atomic_mass())\n",
        "print(aluminium.calculate_charge())\n",
        "\n",
        "class Element(Atom):\n",
        "  def __init__(self,name,protons,electrons,neutrons,electron_config,mass,volume,melting_point,boiling_point):\n",
        "    super().__init__(name,protons,electrons,neutrons,electron_config)\n",
        "    self.mass=mass\n",
        "    self.volume=volume\n",
        "    self.melting_point=melting_point\n",
        "    self.boiling_point=boiling_point\n",
        "  def calculate_atomic_mass(self):\n",
        "    return f\"The Atomic Mass of the element: {self.protons+self.neutrons}\"\n",
        "  def calculate_charge(self):\n",
        "    net_charge = self.protons - self.electrons\n",
        "    if net_charge>0:\n",
        "      return f'Net Charge is Cation'\n",
        "    elif net_charge<0:\n",
        "      return f'Net Charge is Anion'\n",
        "    else :\n",
        "      return f'Net Charge is Neutral'  \n",
        "  def display(self):\n",
        "    lst1=['name','protons','electrons','neutrons','electron_config','mass,volume','melting_point','boiling_point']\n",
        "    lst2=[self.name,self.protons,self.electrons,self.neutrons,self.electron_config,self.mass,self.volume,self.melting_point,self.boiling_point]    \n",
        "    for i in range(len(lst1)):\n",
        "      print(lst1[i],'=', lst2[i])\n",
        "aluminium=Element('Aluminium',13,10,14,[2,8],'10800 Kg','4 m3','2743 K','933.5 K')\n",
        "aluminium.display()\n",
        "print(aluminium.calculate_atomic_mass())\n",
        "print(aluminium.calculate_charge())"
      ]
    }
  ]
}