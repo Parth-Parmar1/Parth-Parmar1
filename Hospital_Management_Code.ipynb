{
  "nbformat": 4,
  "nbformat_minor": 0,
  "metadata": {
    "colab": {
      "name": "Hospital Management Code",
      "provenance": [],
      "collapsed_sections": [],
      "authorship_tag": "ABX9TyP4ItWZLzahxjqNMRm7NMkQ",
      "include_colab_link": true
    },
    "kernelspec": {
      "name": "python3",
      "display_name": "Python 3"
    },
    "language_info": {
      "name": "python"
    }
  },
  "cells": [
    {
      "cell_type": "markdown",
      "metadata": {
        "id": "view-in-github",
        "colab_type": "text"
      },
      "source": [
        "<a href=\"https://colab.research.google.com/github/Parth-Parmar1/Parth-Parmar1/blob/main/Hospital_Management_Code.ipynb\" target=\"_parent\"><img src=\"https://colab.research.google.com/assets/colab-badge.svg\" alt=\"Open In Colab\"/></a>"
      ]
    },
    {
      "cell_type": "code",
      "execution_count": null,
      "metadata": {
        "id": "LUyng_PRuSOh"
      },
      "outputs": [],
      "source": [
        "#  Create class 'Doctor'. Add constructor, getter functions and class methods\n",
        "class Doctor:\n",
        "  info_dict={}\n",
        "  count_doctors=0\n",
        "  def __init__(self,name,salary,specialisation):\n",
        "    self.__name=name\n",
        "    self.__salary=salary\n",
        "    self.__specialisation=specialisation\n",
        "    self.__emp_id=Doctor.increase_count_doctors()\n",
        "    Doctor.add_doctor(name,specialisation)\n",
        "\n",
        "  def get_emp_id(self):\n",
        "    return f' Employee ID: {self.__emp_id}'  \n",
        "  def get_name(self):\n",
        "    return f'Name of the doctor: {self.__name}'\n",
        "  def get_salary(self):\n",
        "    return f'Salary of the doctor: {self.__salary}'\n",
        "  def get_specialisation(self):\n",
        "    return f'Specialisation of the doctor : {self.__specialisation}'\n",
        "  def set_salary(self,new_salary): \n",
        "    self.__salary=new_salary\n",
        "    return f'Salary Update Successfull'\n",
        "\n",
        "  @classmethod\n",
        "  def add_doctor(cls,doctor,specialisation):\n",
        "    cls.info_dict[doctor]=specialisation\n",
        "    return cls.info_dict\n",
        "  @classmethod\n",
        "  def display_info(cls):\n",
        "    print('Doctor and his Specialisation')\n",
        "    for doctor in cls.info_dict:\n",
        "      print(f'Dr. {doctor} ---- Specialisation: {cls.info_dict[doctor]}')\n",
        "    return None  \n",
        "  @classmethod  \n",
        "  def total_num_of_doctors(cls):\n",
        "    return f' total num of doctors {cls.count_doctors}' \n",
        "  @classmethod\n",
        "  def increase_count_doctors(cls):\n",
        "    cls.count_doctors+=1\n",
        "    return cls.count_doctors\n",
        "    \n",
        "abc=Doctor('PP',4999,'Surgeon')\n",
        "\n"
      ]
    },
    {
      "cell_type": "code",
      "source": [
        "#  Create class 'Patient'. Add constructor and functions\n",
        "class Patient():\n",
        "  info_patient={}\n",
        "  def __init__(self,name,age,disease):\n",
        "    self.__name=name\n",
        "    self.__age=age\n",
        "    self.__disease=disease\n",
        "    Patient.add_patient(name,disease)\n",
        "  def get_name(self):\n",
        "    return f'Name of the Patient: {self.__name}'\n",
        "  def get_age(self):\n",
        "    return f'Age of the Patient: {self.__age}'\n",
        "  def get_disease(self):\n",
        "    return f'Disease of the patient : {self.__disease}' \n",
        "  @classmethod\n",
        "  def add_patient(cls,name,disease):\n",
        "    cls.info_patient[name]=disease\n",
        "    return cls.info_patient\n",
        "  @classmethod\n",
        "  def display_info(cls):\n",
        "    print('Patient and his disease')\n",
        "    for patient in cls.info_patient:\n",
        "      print(f'{patient} ---- Disease: {cls.info_patient[patient]}')\n",
        "    return None  \n",
        "  \n",
        "abc=Patient('YoYo',49,'Headache')\n",
        "abc.display_info()"
      ],
      "metadata": {
        "id": "wrkR7jW0ue84"
      },
      "execution_count": null,
      "outputs": []
    },
    {
      "cell_type": "code",
      "source": [
        "while True:\n",
        "  user_choice=int(input('''Enter :\n",
        "          1 to Display all the Doctors and their Specialisations\n",
        "          2 to Display the list of patients and their disease\n",
        "          3 to Add a Doctor \n",
        "          4 to Add a Patient \n",
        "          5 to Know total num of doctors\n",
        "          9 to QUIT the application \n",
        "          Your Input : '''))\n",
        "\n",
        "  if user_choice==1:\n",
        "    Doctor.display_info()\n",
        "  elif user_choice==2:\n",
        "    Patient.display_info()\n",
        "  elif user_choice==3:\n",
        "    name=input('Enter Name: ')\n",
        "    salary=int(input('Enter Salary: '))\n",
        "    specialisation=input('Enter specialisation: ')\n",
        "    doc=Doctor(name,salary,specialisation)\n",
        "    print(doc.get_emp_id())\n",
        "    print(doc.get_name())\n",
        "    print(doc.get_salary())\n",
        "    print(doc.get_specialisation())\n",
        "    user_input=input('Enter yes if You want to update salary : ')\n",
        "    if user_input.lower()=='yes':\n",
        "      new_salary=int(input('Enter new Salary: '))\n",
        "      print(doc.set_salary(new_salary))\n",
        "  elif user_choice==4:\n",
        "    name=input('Enter Name: ')\n",
        "    age=int(input('Enter Age: '))\n",
        "    disease=input('Enter disease: ')\n",
        "    pat=Patient(name,age,disease)\n",
        "    print(pat.get_name())\n",
        "    print(pat.get_age())\n",
        "    print(pat.get_disease())\n",
        "  elif user_choice==5:\n",
        "    print(Doctor.total_num_of_doctors())  \n",
        "  elif user_choice==9:\n",
        "    break\n",
        "  else:\n",
        "    print('Invalid choice')\n"
      ],
      "metadata": {
        "id": "xW_iA3quunaR"
      },
      "execution_count": null,
      "outputs": []
    }
  ]
}