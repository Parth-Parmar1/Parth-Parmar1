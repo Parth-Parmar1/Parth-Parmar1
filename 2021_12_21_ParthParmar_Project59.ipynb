{
  "nbformat": 4,
  "nbformat_minor": 0,
  "metadata": {
    "colab": {
      "name": "2021-12-21_ParthParmar_Project59",
      "provenance": [],
      "collapsed_sections": [],
      "include_colab_link": true
    },
    "kernelspec": {
      "name": "python3",
      "display_name": "Python 3"
    }
  },
  "cells": [
    {
      "cell_type": "markdown",
      "metadata": {
        "id": "view-in-github",
        "colab_type": "text"
      },
      "source": [
        "<a href=\"https://colab.research.google.com/github/Parth-Parmar1/Parth-Parmar1/blob/main/2021_12_21_ParthParmar_Project59.ipynb\" target=\"_parent\"><img src=\"https://colab.research.google.com/assets/colab-badge.svg\" alt=\"Open In Colab\"/></a>"
      ]
    },
    {
      "cell_type": "markdown",
      "metadata": {
        "id": "svb1Oetu-5K8"
      },
      "source": [
        "### Instructions"
      ]
    },
    {
      "cell_type": "markdown",
      "metadata": {
        "id": "lQejVZRS-7H2"
      },
      "source": [
        "#### Goal of the Project\n",
        "\n",
        "This project is designed for you to practice and solve the activities that are based on the concepts covered in the following lessons:\n",
        "\n",
        "1. Simple Linear Regression I \n",
        "2. Simple Linear Regression II\n",
        "\n"
      ]
    },
    {
      "cell_type": "markdown",
      "metadata": {
        "id": "QiBalTFLDtNO"
      },
      "source": [
        "---"
      ]
    },
    {
      "cell_type": "markdown",
      "metadata": {
        "id": "zmssCq1Mx6DJ"
      },
      "source": [
        "#### Getting Started:\n",
        "\n",
        "1. Click on this link to open the Colab file for this project.\n",
        "\n",
        "  https://colab.research.google.com/drive/1Ka8Zi08DNfMjOEYW_cIOo-vUIQby93VM\n",
        "\n",
        "2. Create a duplicate copy of the Colab file as described below.\n",
        "\n",
        "  - Click on the **File menu**. A new drop-down list will appear.\n",
        "\n",
        "   <img src='https://student-datasets-bucket.s3.ap-south-1.amazonaws.com/images/lesson-0/0_file_menu.png' width=500>\n",
        "\n",
        "  - Click on the **Save a copy in Drive** option. A duplicate copy will get created. It will open up in the new tab on your web browser.\n",
        "\n",
        "  <img src='https://student-datasets-bucket.s3.ap-south-1.amazonaws.com/images/lesson-0/1_create_colab_duplicate_copy.png' width=500>\n",
        "\n",
        "3. After creating the duplicate copy of the notebook, please rename it in the **YYYY-MM-DD_StudentName_Project59** format.\n",
        "\n",
        "4. Now, write your code in the prescribed code cells.\n"
      ]
    },
    {
      "cell_type": "markdown",
      "metadata": {
        "id": "DLNX_6gryE6F"
      },
      "source": [
        "---"
      ]
    },
    {
      "cell_type": "markdown",
      "metadata": {
        "id": "m9dW2iOz-9Y-"
      },
      "source": [
        "### Problem Statement \n",
        "\n",
        "As an owner of a startup, you wish to forecast the sales of your product to plan how much money should be spent on advertisements. This is because the sale of a product is usually proportional to the money spent on advertisements.\n",
        "\n",
        "Predict the impact of TV advertising on your product sales by performing simple linear regression analysis. \n",
        "\n",
        "\n",
        "\n"
      ]
    },
    {
      "cell_type": "markdown",
      "metadata": {
        "id": "l2W51RVUDq5Q"
      },
      "source": [
        "---"
      ]
    },
    {
      "cell_type": "markdown",
      "metadata": {
        "id": "b-0V3uyC_wkC"
      },
      "source": [
        "### List of Activities\n",
        "\n",
        "**Activity 1:** Analysing the dataset\n",
        "\n",
        "  \n",
        "**Activity 2:**  Train-Test split\n",
        "\n",
        "**Activity 3:**  Model training\n",
        "\n",
        "**Activity 4:** Plotting the best fit line\n",
        "\n",
        "**Activity 5:** Model prediction\n",
        "\n",
        "\n",
        "\n"
      ]
    },
    {
      "cell_type": "markdown",
      "metadata": {
        "id": "iPsloISKDsAG"
      },
      "source": [
        "---"
      ]
    },
    {
      "cell_type": "markdown",
      "metadata": {
        "id": "hEtQxeW__6oW"
      },
      "source": [
        "\n",
        "#### Activity 1:  Analysing the Dataset\n",
        "\n",
        "Create a Pandas DataFrame for **Advertising-Sales** dataset using the below link. This dataset contains information about the money spent on the TV, radio and newspaper advertisement (in thousand dollars) and their generated sales (in thousand units). The dataset consists of examples that are divided by 1000.\n",
        "\n",
        "**Dataset Link:** https://s3-student-datasets-bucket.whjr.online/whitehat-ds-datasets/advertising.csv \n",
        "\n",
        "Also, print the first five rows of the dataset. Check for null values and treat them accordingly.\n",
        "\n",
        "\n"
      ]
    },
    {
      "cell_type": "code",
      "metadata": {
        "id": "BdIrU2M0AWLK",
        "outputId": "93672b9b-29a7-4b83-b136-45ede1c56cab",
        "colab": {
          "base_uri": "https://localhost:8080/",
          "height": 206
        }
      },
      "source": [
        "# Import modules\n",
        "# Dataset link: 'https://s3-student-datasets-bucket.whjr.online/whitehat-ds-datasets/advertising.csv' \n",
        "import pandas as pd\n",
        "import numpy as np\n",
        "# Load the dataset\n",
        "df=pd.read_csv('https://s3-student-datasets-bucket.whjr.online/whitehat-ds-datasets/advertising.csv')\n",
        "df.head()\n",
        "# Print first five rows using head() function\n"
      ],
      "execution_count": 2,
      "outputs": [
        {
          "output_type": "execute_result",
          "data": {
            "text/html": [
              "\n",
              "  <div id=\"df-6132df6e-b128-4350-8bf4-5fa8edc5ac47\">\n",
              "    <div class=\"colab-df-container\">\n",
              "      <div>\n",
              "<style scoped>\n",
              "    .dataframe tbody tr th:only-of-type {\n",
              "        vertical-align: middle;\n",
              "    }\n",
              "\n",
              "    .dataframe tbody tr th {\n",
              "        vertical-align: top;\n",
              "    }\n",
              "\n",
              "    .dataframe thead th {\n",
              "        text-align: right;\n",
              "    }\n",
              "</style>\n",
              "<table border=\"1\" class=\"dataframe\">\n",
              "  <thead>\n",
              "    <tr style=\"text-align: right;\">\n",
              "      <th></th>\n",
              "      <th>TV</th>\n",
              "      <th>Radio</th>\n",
              "      <th>Newspaper</th>\n",
              "      <th>Sales</th>\n",
              "    </tr>\n",
              "  </thead>\n",
              "  <tbody>\n",
              "    <tr>\n",
              "      <th>0</th>\n",
              "      <td>230.1</td>\n",
              "      <td>37.8</td>\n",
              "      <td>69.2</td>\n",
              "      <td>22.1</td>\n",
              "    </tr>\n",
              "    <tr>\n",
              "      <th>1</th>\n",
              "      <td>44.5</td>\n",
              "      <td>39.3</td>\n",
              "      <td>45.1</td>\n",
              "      <td>10.4</td>\n",
              "    </tr>\n",
              "    <tr>\n",
              "      <th>2</th>\n",
              "      <td>17.2</td>\n",
              "      <td>45.9</td>\n",
              "      <td>69.3</td>\n",
              "      <td>12.0</td>\n",
              "    </tr>\n",
              "    <tr>\n",
              "      <th>3</th>\n",
              "      <td>151.5</td>\n",
              "      <td>41.3</td>\n",
              "      <td>58.5</td>\n",
              "      <td>16.5</td>\n",
              "    </tr>\n",
              "    <tr>\n",
              "      <th>4</th>\n",
              "      <td>180.8</td>\n",
              "      <td>10.8</td>\n",
              "      <td>58.4</td>\n",
              "      <td>17.9</td>\n",
              "    </tr>\n",
              "  </tbody>\n",
              "</table>\n",
              "</div>\n",
              "      <button class=\"colab-df-convert\" onclick=\"convertToInteractive('df-6132df6e-b128-4350-8bf4-5fa8edc5ac47')\"\n",
              "              title=\"Convert this dataframe to an interactive table.\"\n",
              "              style=\"display:none;\">\n",
              "        \n",
              "  <svg xmlns=\"http://www.w3.org/2000/svg\" height=\"24px\"viewBox=\"0 0 24 24\"\n",
              "       width=\"24px\">\n",
              "    <path d=\"M0 0h24v24H0V0z\" fill=\"none\"/>\n",
              "    <path d=\"M18.56 5.44l.94 2.06.94-2.06 2.06-.94-2.06-.94-.94-2.06-.94 2.06-2.06.94zm-11 1L8.5 8.5l.94-2.06 2.06-.94-2.06-.94L8.5 2.5l-.94 2.06-2.06.94zm10 10l.94 2.06.94-2.06 2.06-.94-2.06-.94-.94-2.06-.94 2.06-2.06.94z\"/><path d=\"M17.41 7.96l-1.37-1.37c-.4-.4-.92-.59-1.43-.59-.52 0-1.04.2-1.43.59L10.3 9.45l-7.72 7.72c-.78.78-.78 2.05 0 2.83L4 21.41c.39.39.9.59 1.41.59.51 0 1.02-.2 1.41-.59l7.78-7.78 2.81-2.81c.8-.78.8-2.07 0-2.86zM5.41 20L4 18.59l7.72-7.72 1.47 1.35L5.41 20z\"/>\n",
              "  </svg>\n",
              "      </button>\n",
              "      \n",
              "  <style>\n",
              "    .colab-df-container {\n",
              "      display:flex;\n",
              "      flex-wrap:wrap;\n",
              "      gap: 12px;\n",
              "    }\n",
              "\n",
              "    .colab-df-convert {\n",
              "      background-color: #E8F0FE;\n",
              "      border: none;\n",
              "      border-radius: 50%;\n",
              "      cursor: pointer;\n",
              "      display: none;\n",
              "      fill: #1967D2;\n",
              "      height: 32px;\n",
              "      padding: 0 0 0 0;\n",
              "      width: 32px;\n",
              "    }\n",
              "\n",
              "    .colab-df-convert:hover {\n",
              "      background-color: #E2EBFA;\n",
              "      box-shadow: 0px 1px 2px rgba(60, 64, 67, 0.3), 0px 1px 3px 1px rgba(60, 64, 67, 0.15);\n",
              "      fill: #174EA6;\n",
              "    }\n",
              "\n",
              "    [theme=dark] .colab-df-convert {\n",
              "      background-color: #3B4455;\n",
              "      fill: #D2E3FC;\n",
              "    }\n",
              "\n",
              "    [theme=dark] .colab-df-convert:hover {\n",
              "      background-color: #434B5C;\n",
              "      box-shadow: 0px 1px 3px 1px rgba(0, 0, 0, 0.15);\n",
              "      filter: drop-shadow(0px 1px 2px rgba(0, 0, 0, 0.3));\n",
              "      fill: #FFFFFF;\n",
              "    }\n",
              "  </style>\n",
              "\n",
              "      <script>\n",
              "        const buttonEl =\n",
              "          document.querySelector('#df-6132df6e-b128-4350-8bf4-5fa8edc5ac47 button.colab-df-convert');\n",
              "        buttonEl.style.display =\n",
              "          google.colab.kernel.accessAllowed ? 'block' : 'none';\n",
              "\n",
              "        async function convertToInteractive(key) {\n",
              "          const element = document.querySelector('#df-6132df6e-b128-4350-8bf4-5fa8edc5ac47');\n",
              "          const dataTable =\n",
              "            await google.colab.kernel.invokeFunction('convertToInteractive',\n",
              "                                                     [key], {});\n",
              "          if (!dataTable) return;\n",
              "\n",
              "          const docLinkHtml = 'Like what you see? Visit the ' +\n",
              "            '<a target=\"_blank\" href=https://colab.research.google.com/notebooks/data_table.ipynb>data table notebook</a>'\n",
              "            + ' to learn more about interactive tables.';\n",
              "          element.innerHTML = '';\n",
              "          dataTable['output_type'] = 'display_data';\n",
              "          await google.colab.output.renderOutput(dataTable, element);\n",
              "          const docLink = document.createElement('div');\n",
              "          docLink.innerHTML = docLinkHtml;\n",
              "          element.appendChild(docLink);\n",
              "        }\n",
              "      </script>\n",
              "    </div>\n",
              "  </div>\n",
              "  "
            ],
            "text/plain": [
              "      TV  Radio  Newspaper  Sales\n",
              "0  230.1   37.8       69.2   22.1\n",
              "1   44.5   39.3       45.1   10.4\n",
              "2   17.2   45.9       69.3   12.0\n",
              "3  151.5   41.3       58.5   16.5\n",
              "4  180.8   10.8       58.4   17.9"
            ]
          },
          "metadata": {},
          "execution_count": 2
        }
      ]
    },
    {
      "cell_type": "code",
      "metadata": {
        "id": "8LXtVcLdhxo7",
        "outputId": "85220124-2024-4096-9fc1-a0fccaa92c5e",
        "colab": {
          "base_uri": "https://localhost:8080/"
        }
      },
      "source": [
        "# Check if there are any null values. If any column has null values, treat them accordingly\n",
        "df.isnull().sum()"
      ],
      "execution_count": 3,
      "outputs": [
        {
          "output_type": "execute_result",
          "data": {
            "text/plain": [
              "TV           0\n",
              "Radio        0\n",
              "Newspaper    0\n",
              "Sales        0\n",
              "dtype: int64"
            ]
          },
          "metadata": {},
          "execution_count": 3
        }
      ]
    },
    {
      "cell_type": "markdown",
      "metadata": {
        "id": "rm8nBjLwiqzC"
      },
      "source": [
        "---"
      ]
    },
    {
      "cell_type": "markdown",
      "metadata": {
        "id": "lx5UydtLIYyG"
      },
      "source": [
        "#### Activity 2: Train-Test Split\n",
        "\n",
        "For simple linear regression, consider only the effect of **TV ads** on sales. Thus, `TV` is the feature variable and `Sales` is the target variable. \n",
        "\n",
        "Split the dataset into training set and test set such that the training set contains 67% of the instances and the remaining instances will become the test set.\n",
        "\n",
        "\n"
      ]
    },
    {
      "cell_type": "code",
      "metadata": {
        "id": "REuLvaloGigG"
      },
      "source": [
        "# Split the DataFrame into the training and test sets.\n",
        "from sklearn.model_selection import train_test_split\n",
        "x=df['TV']\n",
        "y=df['Sales']\n",
        "x_train,x_test,y_train,y_test=train_test_split(x,y,test_size=.33,random_state=40)\n",
        "\n"
      ],
      "execution_count": 4,
      "outputs": []
    },
    {
      "cell_type": "markdown",
      "metadata": {
        "id": "fSxPcV0ySZDu"
      },
      "source": [
        "---"
      ]
    },
    {
      "cell_type": "markdown",
      "metadata": {
        "id": "-k2GAbeQQq7Q"
      },
      "source": [
        "#### Activity 3: Model Training\n",
        "\n",
        "Train the simple regression model using the **training data** to obtain the best fit line $y = mx + c$. For this, perform the following tasks:\n",
        "\n",
        "1. Create following two functions:\n",
        "\n",
        " - A function `errors_product()` that calculates the errors for the feature and target variables i.e. $(x_i - \\bar{x})(y_i - \\bar{y})$\n",
        "\n",
        " - A function `squared_errors()` that calculates the squared errors for the feature variable only i.e. $(x_i - \\bar{x})^2$\n",
        "\n",
        "2. Calculate the **slope** and **intercept** values for the best fit line by applying the following formulae:\n",
        " $$slope\\Rightarrow m = \\frac{\\sum(x_i - \\bar{x})(y_i - \\bar{y})}{\\sum (x_i - \\bar{x})^2}=\\frac{ errors\\_product().sum()}{squared\\_errors().sum()}$$\n",
        "\n",
        " $$intercept \\Rightarrow c = \\bar{y} - m \\bar{x}$$\n",
        "\n"
      ]
    },
    {
      "cell_type": "code",
      "metadata": {
        "id": "a__FT7MHHve4"
      },
      "source": [
        "from numpy.core.fromnumeric import product\n",
        "# Create the 'errors_product()' and 'squared_errors()' function.\n",
        "def errors_product():\n",
        "  prod=(x_train-x_train.mean())*(y_train-y_train.mean())\n",
        "  return prod\n",
        "\n",
        "def squared_errors():\n",
        "  squar=(x_train-x_train.mean())**2\n",
        "  return squar\n",
        "  "
      ],
      "execution_count": 22,
      "outputs": []
    },
    {
      "cell_type": "code",
      "metadata": {
        "id": "UyGNYvU7H0hR",
        "colab": {
          "base_uri": "https://localhost:8080/"
        },
        "outputId": "6f243c7b-2964-43b4-8fec-06aec4f2e1bd"
      },
      "source": [
        "# Calculate the slope and intercept values for the best fit line.\n",
        "slope=errors_product().sum()/squared_errors().sum()\n",
        "intercept=y_train.mean()-slope*x_train.mean()\n",
        "print(f'slope is {slope}\\nIntercept is {intercept}')\n",
        "print(f'Equation of best fit line is y={slope:.3f}x+{intercept:.3f}')\n"
      ],
      "execution_count": 29,
      "outputs": [
        {
          "output_type": "stream",
          "name": "stdout",
          "text": [
            "slope is 0.05560520373922205\n",
            "Intercept is 7.002650114350342\n",
            "Equation of best fit line is y=0.056x+7.003\n"
          ]
        }
      ]
    },
    {
      "cell_type": "markdown",
      "metadata": {
        "id": "cLJaPWLtfY8g"
      },
      "source": [
        "**Q:** What is the equation obtained for the best fit line of this model?\n",
        "\n",
        "**A:** y=0.056x+7.003"
      ]
    },
    {
      "cell_type": "markdown",
      "metadata": {
        "id": "2_3_qkZThe1W"
      },
      "source": [
        "---"
      ]
    },
    {
      "cell_type": "markdown",
      "metadata": {
        "id": "3AO9GzYGe0bm"
      },
      "source": [
        "#### Activity 4: Plotting the Best Fit Line\n",
        "\n",
        "After obtaining the slope and intercept values for the best fit line, plot this line along with the scatter plot to see how well it fits the points.\n"
      ]
    },
    {
      "cell_type": "code",
      "metadata": {
        "id": "6zzogPW1H46r",
        "colab": {
          "base_uri": "https://localhost:8080/",
          "height": 355
        },
        "outputId": "97629ed1-f075-4ebc-b905-37d107624bc7"
      },
      "source": [
        "#  Plot the regression line in the scatter plot between Sales and TV advertisment values.\n",
        "import matplotlib.pyplot as plt\n",
        "plt.figure(figsize=(20,5),dpi=144)\n",
        "plt.scatter(df['TV'],df['Sales'],color='teal')\n",
        "plt.plot(df['TV'],slope*df['TV']+intercept,color='red',linewidth=2,label='y=0.056x+7.003')\n",
        "plt.xlabel('TV ads')\n",
        "plt.ylabel('Sales')\n",
        "plt.legend()\n",
        "plt.show()"
      ],
      "execution_count": 32,
      "outputs": [
        {
          "output_type": "display_data",
          "data": {
            "image/png": "[encoded data removed]",
            "text/plain": [
              "<Figure size 2880x720 with 1 Axes>"
            ]
          },
          "metadata": {
            "needs_background": "light"
          }
        }
      ]
    },
    {
      "cell_type": "markdown",
      "metadata": {
        "id": "VCnDWR0lSayX"
      },
      "source": [
        "---"
      ]
    },
    {
      "cell_type": "markdown",
      "metadata": {
        "id": "ZcXTWRKuRAIs"
      },
      "source": [
        "#### Activity 5: Model Prediction\n",
        "\n",
        "For the TV advertising of $50,000, what is prediction for Sales? In order to predict this value, perform the following task:\n",
        "\n",
        "- Based on the regression line, create a function `sales_predicted()` which takes a budget to be used for TV advertising as an input and returns the corresponding units of Sales.\n",
        "- Call the function `sales_predicted()` and pass the amount spent on TV advertising. \n",
        "\n",
        "**Note:** To predict the sales for TV advertising of $50,000, pass 50 as parameter to `sales_predicted()` function as the original data of this dataset consists of examples that are divided by 1000. Also, the value obtained after calling `sales_predicted(50)` must be multiplied by 1000 to obtain the predicted units of sales.\n",
        "\n"
      ]
    },
    {
      "cell_type": "code",
      "metadata": {
        "id": "RKKT9L8nIfL_",
        "colab": {
          "base_uri": "https://localhost:8080/",
          "height": 35
        },
        "outputId": "8f9226d2-532a-4bdb-eff0-ddc15720a19c"
      },
      "source": [
        "#Create a function which takes TV advertisement value as an input and returns the sales.\n",
        "def sales_pred(tv):\n",
        "  sales=slope*tv+intercept\n",
        "  return f'Sales value at ${tv} is ${sales:4f}'\n",
        "sales_pred(50000)  \n",
        "# Calculating sales value against $50,000 spent in TV ads\n",
        "\n"
      ],
      "execution_count": 36,
      "outputs": [
        {
          "output_type": "execute_result",
          "data": {
            "application/vnd.google.colaboratory.intrinsic+json": {
              "type": "string"
            },
            "text/plain": [
              "'Sales value at $50000 is $2787.262837'"
            ]
          },
          "metadata": {},
          "execution_count": 36
        }
      ]
    },
    {
      "cell_type": "markdown",
      "metadata": {
        "id": "RMl41ptEpLhi"
      },
      "source": [
        "**Q:** If you are planning to invest $50,000 dollars in TV advertising, how many unit of sales can be predicted according to this simple linear regression model?\n",
        "\n",
        "**A:** $2787.262837\n"
      ]
    },
    {
      "cell_type": "markdown",
      "metadata": {
        "id": "6Ybzt1WtVTiz"
      },
      "source": [
        "---"
      ]
    },
    {
      "cell_type": "markdown",
      "metadata": {
        "id": "22aU8BHDyJwf"
      },
      "source": [
        "### Submitting the Project:\n",
        "\n",
        "1. After finishing the project, click on the **Share** button on the top right corner of the notebook. A new dialog box will appear.\n",
        "\n",
        "  <img src='https://student-datasets-bucket.s3.ap-south-1.amazonaws.com/images/project-share-images/2_share_button.png' width=500>\n",
        "\n",
        "2. In the dialog box, make sure that '**Anyone on the Internet with this link can view**' option is selected and then click on the **Copy link** button.\n",
        "\n",
        "   <img src='https://student-datasets-bucket.s3.ap-south-1.amazonaws.com/images/project-share-images/3_copy_link.png' width=500>\n",
        "\n",
        "3. The link of the duplicate copy (named as **YYYY-MM-DD_StudentName_Project59**) of the notebook will get copied \n",
        "\n",
        "   <img src='https://student-datasets-bucket.s3.ap-south-1.amazonaws.com/images/project-share-images/4_copy_link_confirmation.png' width=500>\n",
        "\n",
        "4. Go to your dashboard and click on the **My Projects** option.\n",
        "   \n",
        "   <img src='https://student-datasets-bucket.s3.ap-south-1.amazonaws.com/images/project-share-images/5_student_dashboard.png' width=800>\n",
        "\n",
        "  <img src='https://student-datasets-bucket.s3.ap-south-1.amazonaws.com/images/project-share-images/6_my_projects.png' width=800>\n",
        "\n",
        "5. Click on the **View Project** button for the project you want to submit.\n",
        "\n",
        "   <img src='https://student-datasets-bucket.s3.ap-south-1.amazonaws.com/images/project-share-images/7_view_project.png' width=800>\n",
        "\n",
        "6. Click on the **Submit Project Here** button.\n",
        "\n",
        "   <img src='https://student-datasets-bucket.s3.ap-south-1.amazonaws.com/images/project-share-images/8_submit_project.png' width=800>\n",
        "\n",
        "7. Paste the link to the project file named as **YYYY-MM-DD_StudentName_Project59** in the URL box and then click on the **Submit** button.\n",
        "\n",
        "   <img src='https://student-datasets-bucket.s3.ap-south-1.amazonaws.com/images/project-share-images/9_enter_project_url.png' width=800> "
      ]
    },
    {
      "cell_type": "markdown",
      "metadata": {
        "id": "7R9NZ5awyYiY"
      },
      "source": [
        "---"
      ]
    }
  ]
}